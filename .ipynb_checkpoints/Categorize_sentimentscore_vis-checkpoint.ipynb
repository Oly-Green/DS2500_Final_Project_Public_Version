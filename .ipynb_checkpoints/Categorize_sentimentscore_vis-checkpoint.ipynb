{
 "cells": [
  {
   "cell_type": "code",
   "execution_count": 1,
   "metadata": {},
   "outputs": [],
   "source": [
    "import json\n",
    "import matplotlib.pyplot as plt\n",
    "import numpy as np\n",
    "import seaborn as sns"
   ]
  },
  {
   "cell_type": "code",
   "execution_count": 2,
   "metadata": {},
   "outputs": [],
   "source": [
    "with open('posts_cat_scores.json') as f:\n",
    "    posts_cs = json.load(f)"
   ]
  },
  {
   "cell_type": "code",
   "execution_count": 3,
   "metadata": {},
   "outputs": [
    {
     "data": {
      "text/plain": [
       "{'remote_learning': 0.41496895017793634,\n",
       " 'socialization': 0.6411375000000001,\n",
       " 'mental_health': 0.4933736318407961,\n",
       " 'covid': 0.531624096385542}"
      ]
     },
     "execution_count": 3,
     "metadata": {},
     "output_type": "execute_result"
    }
   ],
   "source": [
    "#overall sentiment scores\n",
    "scores = {\"remote_learning\": [0.0, 0],\n",
    "          \"socialization\": [0.0, 0],\n",
    "          \"mental_health\": [0.0, 0],\n",
    "          \"covid\": [0.0, 0]}\n",
    "\n",
    "\n",
    "for university in posts_cs:\n",
    "    for title in posts_cs[university]:\n",
    "        compound_score = posts_cs[university][title][\"sentiment_scores\"][\"compound\"]\n",
    "        \n",
    "        category = posts_cs[university][title][\"category\"]\n",
    "        \n",
    "        scores[category][0] += compound_score\n",
    "        scores[category][1] += 1\n",
    "            \n",
    "scores_norm = {\"remote_learning\": scores[\"remote_learning\"][0]/scores[\"remote_learning\"][1],\n",
    "               \"socialization\": scores[\"socialization\"][0]/scores[\"socialization\"][1],\n",
    "               \"mental_health\": scores[\"mental_health\"][0]/scores[\"mental_health\"][1],\n",
    "               \"covid\": scores[\"covid\"][0]/scores[\"covid\"][1]}\n",
    "scores_norm"
   ]
  },
  {
   "cell_type": "code",
   "execution_count": 18,
   "metadata": {},
   "outputs": [
    {
     "data": {
      "image/png": "[encoded data removed]",
      "text/plain": [
       "<Figure size 864x432 with 1 Axes>"
      ]
     },
     "metadata": {
      "needs_background": "light"
     },
     "output_type": "display_data"
    }
   ],
   "source": [
    "# visualize sentiment scores\n",
    "\n",
    "# convert keys/values to lists to plot\n",
    "category = list(scores_norm.keys())\n",
    "scores = list(scores_norm.values())\n",
    "\n",
    "# plotting bars\n",
    "plt.figure(figsize=(12,6))\n",
    "sns.barplot(y=category, x=scores, palette='CMRmap_r')\n",
    "\n",
    "# xticks and labels\n",
    "plt.title('Reddit Post Sentiment Scores by Topic', fontweight='bold', size=14)\n",
    "plt.ylabel('score',  fontweight='bold')\n",
    "plt.xlabel('sentiment score type', fontweight='bold')\n",
    "plt.show()"
   ]
  },
  {
   "cell_type": "code",
   "execution_count": null,
   "metadata": {},
   "outputs": [],
   "source": []
  }
 ],
 "metadata": {
  "kernelspec": {
   "display_name": "Python 3",
   "language": "python",
   "name": "python3"
  },
  "language_info": {
   "codemirror_mode": {
    "name": "ipython",
    "version": 3
   },
   "file_extension": ".py",
   "mimetype": "text/x-python",
   "name": "python",
   "nbconvert_exporter": "python",
   "pygments_lexer": "ipython3",
   "version": "3.8.5"
  }
 },
 "nbformat": 4,
 "nbformat_minor": 5
}
