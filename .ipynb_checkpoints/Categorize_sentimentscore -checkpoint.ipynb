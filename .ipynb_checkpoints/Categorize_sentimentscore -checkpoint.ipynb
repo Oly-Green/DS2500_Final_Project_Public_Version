{
 "cells": [
  {
   "cell_type": "code",
   "execution_count": 1,
   "metadata": {},
   "outputs": [],
   "source": [
    "import json\n",
    "from vaderSentiment.vaderSentiment import SentimentIntensityAnalyzer\n",
    "from tqdm import tqdm"
   ]
  },
  {
   "cell_type": "code",
   "execution_count": 2,
   "metadata": {},
   "outputs": [],
   "source": [
    "with open('posts.json') as f:\n",
    "    all_posts = json.load(f)\n",
    "\n",
    "with open('kwords_catergories.json') as f:\n",
    "    kwords = json.load(f)"
   ]
  },
  {
   "cell_type": "code",
   "execution_count": 3,
   "metadata": {},
   "outputs": [],
   "source": [
    "def category(post, categories_keywords=kwords):\n",
    "    cat_score = {\"remote_learning\":0,\n",
    "                 \"socialization\":0,\n",
    "                 \"mental_health\": 0,\n",
    "                 \"covid\": 0}\n",
    "    \n",
    "    keywords = post['Keywords']\n",
    "    \n",
    "    for word in keywords: \n",
    "        if word in categories_keywords['remote_learning']:\n",
    "            cat_score[\"remote_learning\"] += 1\n",
    "        if word in categories_keywords['socialization']:\n",
    "            cat_score[\"socialization\"] += 1\n",
    "        if word in categories_keywords['mental_health']:\n",
    "            cat_score[\"mental_health\"] += 1\n",
    "        if word in categories_keywords['covid']:\n",
    "            cat_score[\"covid\"] += 1 \n",
    "            \n",
    "    cat_values = list(cat_score.values())\n",
    "    \n",
    "    cat = list(cat_score.keys())[cat_values.index(max(cat_values))]\n",
    "    \n",
    "    return cat"
   ]
  },
  {
   "cell_type": "code",
   "execution_count": 4,
   "metadata": {},
   "outputs": [],
   "source": [
    "def sentiment_analysis(keywords):\n",
    "    #Takes keywrods from post in post.json\n",
    "    #returns a polarity dict using vader\n",
    "    vader_str = \" \".join(keywords)\n",
    "        \n",
    "    vader_object = SentimentIntensityAnalyzer()\n",
    "    sentiment_dict = vader_object.polarity_scores(vader_str)\n",
    "    \n",
    "    return sentiment_dict"
   ]
  },
  {
   "cell_type": "code",
   "execution_count": 5,
   "metadata": {},
   "outputs": [
    {
     "name": "stderr",
     "output_type": "stream",
     "text": [
      "100%|████████████████████████████████████████████████████████████████████████████████| 336/336 [00:27<00:00, 12.35it/s]\n"
     ]
    }
   ],
   "source": [
    "for university in tqdm(all_posts):\n",
    "    for post in all_posts[university]:\n",
    "        #Calculate caterogry scores\n",
    "        all_posts[university][post]['category'] = category(all_posts[university][post])\n",
    "        \n",
    "        #Calculate Sentiment Scores\n",
    "        sentiment_dict = sentiment_analysis(all_posts[university][post][\"Keywords\"])\n",
    "        all_posts[university][post]['sentiment_scores'] = sentiment_dict\n",
    "        \n",
    "        #Remove text data\n",
    "        all_posts[university][post].pop(\"Keywords\")\n",
    "        all_posts[university][post].pop(\"Raw_Text\")\n",
    "    \n",
    "with open('posts_cat_scores.json', 'w') as f:\n",
    "    f.write(json.dumps(all_posts, sort_keys=False, indent=4))"
   ]
  }
 ],
 "metadata": {
  "kernelspec": {
   "display_name": "Python 3",
   "language": "python",
   "name": "python3"
  },
  "language_info": {
   "codemirror_mode": {
    "name": "ipython",
    "version": 3
   },
   "file_extension": ".py",
   "mimetype": "text/x-python",
   "name": "python",
   "nbconvert_exporter": "python",
   "pygments_lexer": "ipython3",
   "version": "3.8.5"
  }
 },
 "nbformat": 4,
 "nbformat_minor": 5
}
